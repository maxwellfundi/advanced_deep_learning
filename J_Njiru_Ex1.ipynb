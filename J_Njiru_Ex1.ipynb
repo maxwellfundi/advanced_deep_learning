{
  "nbformat": 4,
  "nbformat_minor": 0,
  "metadata": {
    "colab": {
      "provenance": [],
      "gpuType": "T4",
      "authorship_tag": "ABX9TyPfB4oJAaFVaLMknq18jKiy",
      "include_colab_link": true
    },
    "kernelspec": {
      "name": "python3",
      "display_name": "Python 3"
    },
    "language_info": {
      "name": "python"
    },
    "accelerator": "GPU"
  },
  "cells": [
    {
      "cell_type": "markdown",
      "metadata": {
        "id": "view-in-github",
        "colab_type": "text"
      },
      "source": [
        "<a href=\"https://colab.research.google.com/github/maxwellfundi/advanced_deep_learning/blob/main/J_Njiru_Ex1.ipynb\" target=\"_parent\"><img src=\"https://colab.research.google.com/assets/colab-badge.svg\" alt=\"Open In Colab\"/></a>"
      ]
    },
    {
      "cell_type": "markdown",
      "source": [
        "Importing all libraries needed"
      ],
      "metadata": {
        "id": "wD6P6IthRZZc"
      }
    },
    {
      "cell_type": "code",
      "execution_count": 1,
      "metadata": {
        "id": "p6IpGeQgQN_c"
      },
      "outputs": [],
      "source": [
        "import tensorflow as tf\n",
        "from tensorflow.keras import layers,models, Input\n",
        "import numpy as np\n",
        "import matplotlib.pyplot as plt"
      ]
    },
    {
      "cell_type": "markdown",
      "source": [
        "Loading Mnist datasets\n"
      ],
      "metadata": {
        "id": "VJDjykyMRdap"
      }
    },
    {
      "cell_type": "code",
      "source": [
        "#mnist dataset\n",
        "(x_train_mnist, y_train_mnist), (x_test_mnist, y_test_mnist) = tf.keras.datasets.mnist.load_data()\n",
        "x_train_mnist, x_train_mnist.reshape(-1, 28,28,1).astype('float32')/255.0\n",
        "x_test_mnist, x_test_mnist.reshape(-1, 28,28,1).astype('float32')/255.0\n",
        "\n",
        "y_train_mnist = tf.keras.utils.to_categorical(y_train_mnist, num_classes=10)\n",
        "y_test_mnist = tf.keras.utils.to_categorical(y_test_mnist, num_classes=10)\n",
        "\n",
        "#CIFAR10\n",
        "(x_train_cifar, y_train_cifar),(x_test_cifar, y_test_cifar) = tf.keras.datasets.cifar10.load_data()\n",
        "x_train_cifar, x_train_cifar.reshape(-1, 32,32,3).astype('float32')/255.0\n",
        "x_test_cifar, x_test_cifar.reshape(-1, 32,32,3).astype('float32')/255.0\n",
        "\n",
        "y_train_cifar = tf.keras.utils.to_categorical(y_train_cifar, num_classes=10)\n",
        "y_test_cifar = tf.keras.utils.to_categorical(y_test_cifar, num_classes=10)\n",
        "\n",
        "\n"
      ],
      "metadata": {
        "colab": {
          "base_uri": "https://localhost:8080/"
        },
        "id": "naAtz7-cRfS2",
        "outputId": "e6430b40-2e39-486a-f76e-55e2d68b16bb"
      },
      "execution_count": 3,
      "outputs": [
        {
          "output_type": "stream",
          "name": "stdout",
          "text": [
            "Downloading data from https://storage.googleapis.com/tensorflow/tf-keras-datasets/mnist.npz\n",
            "\u001b[1m11490434/11490434\u001b[0m \u001b[32m━━━━━━━━━━━━━━━━━━━━\u001b[0m\u001b[37m\u001b[0m \u001b[1m2s\u001b[0m 0us/step\n",
            "Downloading data from https://www.cs.toronto.edu/~kriz/cifar-10-python.tar.gz\n",
            "\u001b[1m170498071/170498071\u001b[0m \u001b[32m━━━━━━━━━━━━━━━━━━━━\u001b[0m\u001b[37m\u001b[0m \u001b[1m13s\u001b[0m 0us/step\n"
          ]
        }
      ]
    },
    {
      "cell_type": "markdown",
      "source": [
        "Define a function to create a CNN model with a given activation function\n"
      ],
      "metadata": {
        "id": "q3mLtsy3Wg7B"
      }
    },
    {
      "cell_type": "code",
      "source": [
        "def create_model(activation, input_shape):\n",
        "  inputs = Input(shape=input_shape)\n",
        "  x = layers.Conv2D(32, (3,3), activation=activation)(inputs)\n",
        "  x = layers.MaxPooling2D((2,2))(x)\n",
        "  x = layers.Conv2D(64, (3,3), activation=activation)(x)\n",
        "  x = layers.MaxPooling2D((2,2))(x)\n",
        "  x = layers.conv2D(64, (3,3), activation=activation)(x)\n",
        "  x = layers.Flatten()(x)\n",
        "  x = layers.Dense(64, activation=activation)(x)\n",
        "  outputs = layers.Dense(10, activation='softmax')(x)\n",
        "\n",
        "  model = models.Model(inputs=inputs, outputs=outputs)\n",
        "  return model\n",
        "\n",
        "  def train_and_model(model, x_train, y_train, x_test, y_test, epochs =10):\n",
        "    model.compile(optimizer='adam', loss='categorical_crossentropy', metrics=['accuracy'])\n",
        "    history = model.fit(x_train, y_train, epochs=epochs, validation_data=(x_test, y_test), verbose=0)\n",
        "    return history\n",
        ""
      ],
      "metadata": {
        "id": "3NpsQBnIWpzB"
      },
      "execution_count": 4,
      "outputs": []
    },
    {
      "cell_type": "markdown",
      "source": [
        "Plotting comparison of different activation models"
      ],
      "metadata": {
        "id": "L5cXWyp6YvmY"
      }
    },
    {
      "cell_type": "code",
      "source": [
        "def plot_activation_comparison(histories,dataset_name):\n",
        "  plt.figure(figsize=(20,10))\n",
        "  metrics = ['loss', 'accuracy']\n",
        "\n",
        "  for i, metric in enumerate(metrics):\n",
        "    plt.subplot(2,2, i * 2 + 1)\n",
        "    for activation, history in histories.items():\n",
        "      plt.plot(history.history[metric], label= f'{activation}(Training)')\n",
        "    plt.title(f'{dataset_name} - Training {metric.capitalize()}')\n",
        "    plt.xlabel('Epochs')\n",
        "    plt.ylabel(metric)\n",
        "    plt.legend()\n",
        "\n",
        "    plt.subplot(2,2, i * 2 + 2)\n",
        "    for activation, history in histories.items():\n",
        "      plt.plot(history.history[f'val_{metric}'], label=f'{activation}(Validation)')\n",
        "    plt.title(f'{dataset_name} - Validation {metric.capitalize()}')\n",
        "    plt.xlabel('Epochs')\n",
        "    plt.ylabel(metric.capitalize())\n",
        "    plt.legend()\n",
        "\n",
        "  plt.tight_layout()\n",
        "  plt.show()"
      ],
      "metadata": {
        "id": "k1REvw7pY4wg"
      },
      "execution_count": 8,
      "outputs": []
    },
    {
      "cell_type": "markdown",
      "source": [
        "Define list of activation functions to be used"
      ],
      "metadata": {
        "id": "_vzQ6ZYccOlk"
      }
    },
    {
      "cell_type": "code",
      "source": [
        "activation_functions = ['sigmoid', 'tanh', 'relu','elu','selu']\n",
        "datasets = [('MNIST', x_train_mnist, y_train_mnist, x_test_mnist, y_test_mnist,(28,28,1)),\n",
        "            ('CIFAR10', x_train_cifar, y_train_cifar, x_test_cifar, y_test_cifar,(32,32,3))]"
      ],
      "metadata": {
        "id": "m_GYhHeXblmc"
      },
      "execution_count": 9,
      "outputs": []
    },
    {
      "cell_type": "code",
      "source": [],
      "metadata": {
        "id": "7XrS3RJNblEt"
      },
      "execution_count": null,
      "outputs": []
    },
    {
      "cell_type": "markdown",
      "source": [
        "iterate through each dataset"
      ],
      "metadata": {
        "id": "b-jRVNTQck4x"
      }
    },
    {
      "cell_type": "code",
      "source": [
        "for dataset_name, x_train, y_train, x_test, y_test, input_shape in datasets:\n",
        "\n",
        "  histories = {}\n",
        "  for activation in activation_functions:\n",
        "    print(f'Training {dataset_name} with {activation} activation function')\n",
        "\n",
        "    model = create_model(activation, input_shape)\n",
        "    history = train_and_evaluate(model, x_train, y_train, x_test, y_test)\n",
        "    histories[activation] = history\n",
        "\n",
        "  plot_activation_comparison(histories, dataset_name)"
      ],
      "metadata": {
        "colab": {
          "base_uri": "https://localhost:8080/",
          "height": 367
        },
        "id": "yeSjI_BgcqO5",
        "outputId": "0a167f9a-060f-4d74-c5c5-438274b5230e"
      },
      "execution_count": 11,
      "outputs": [
        {
          "output_type": "stream",
          "name": "stdout",
          "text": [
            "Training MNIST with sigmoid activation function\n"
          ]
        },
        {
          "output_type": "error",
          "ename": "AttributeError",
          "evalue": "module 'keras._tf_keras.keras.layers' has no attribute 'conv2D'",
          "traceback": [
            "\u001b[0;31m---------------------------------------------------------------------------\u001b[0m",
            "\u001b[0;31mAttributeError\u001b[0m                            Traceback (most recent call last)",
            "\u001b[0;32m<ipython-input-11-972e44227414>\u001b[0m in \u001b[0;36m<cell line: 1>\u001b[0;34m()\u001b[0m\n\u001b[1;32m      5\u001b[0m     \u001b[0mprint\u001b[0m\u001b[0;34m(\u001b[0m\u001b[0;34mf'Training {dataset_name} with {activation} activation function'\u001b[0m\u001b[0;34m)\u001b[0m\u001b[0;34m\u001b[0m\u001b[0;34m\u001b[0m\u001b[0m\n\u001b[1;32m      6\u001b[0m \u001b[0;34m\u001b[0m\u001b[0m\n\u001b[0;32m----> 7\u001b[0;31m     \u001b[0mmodel\u001b[0m \u001b[0;34m=\u001b[0m \u001b[0mcreate_model\u001b[0m\u001b[0;34m(\u001b[0m\u001b[0mactivation\u001b[0m\u001b[0;34m,\u001b[0m \u001b[0minput_shape\u001b[0m\u001b[0;34m)\u001b[0m\u001b[0;34m\u001b[0m\u001b[0;34m\u001b[0m\u001b[0m\n\u001b[0m\u001b[1;32m      8\u001b[0m     \u001b[0mhistory\u001b[0m \u001b[0;34m=\u001b[0m \u001b[0mtrain_and_evaluate\u001b[0m\u001b[0;34m(\u001b[0m\u001b[0mmodel\u001b[0m\u001b[0;34m,\u001b[0m \u001b[0mx_train\u001b[0m\u001b[0;34m,\u001b[0m \u001b[0my_train\u001b[0m\u001b[0;34m,\u001b[0m \u001b[0mx_test\u001b[0m\u001b[0;34m,\u001b[0m \u001b[0my_test\u001b[0m\u001b[0;34m)\u001b[0m\u001b[0;34m\u001b[0m\u001b[0;34m\u001b[0m\u001b[0m\n\u001b[1;32m      9\u001b[0m     \u001b[0mhistories\u001b[0m\u001b[0;34m[\u001b[0m\u001b[0mactivation\u001b[0m\u001b[0;34m]\u001b[0m \u001b[0;34m=\u001b[0m \u001b[0mhistory\u001b[0m\u001b[0;34m\u001b[0m\u001b[0;34m\u001b[0m\u001b[0m\n",
            "\u001b[0;32m<ipython-input-4-90c3c394bae9>\u001b[0m in \u001b[0;36mcreate_model\u001b[0;34m(activation, input_shape)\u001b[0m\n\u001b[1;32m      5\u001b[0m   \u001b[0mx\u001b[0m \u001b[0;34m=\u001b[0m \u001b[0mlayers\u001b[0m\u001b[0;34m.\u001b[0m\u001b[0mConv2D\u001b[0m\u001b[0;34m(\u001b[0m\u001b[0;36m64\u001b[0m\u001b[0;34m,\u001b[0m \u001b[0;34m(\u001b[0m\u001b[0;36m3\u001b[0m\u001b[0;34m,\u001b[0m\u001b[0;36m3\u001b[0m\u001b[0;34m)\u001b[0m\u001b[0;34m,\u001b[0m \u001b[0mactivation\u001b[0m\u001b[0;34m=\u001b[0m\u001b[0mactivation\u001b[0m\u001b[0;34m)\u001b[0m\u001b[0;34m(\u001b[0m\u001b[0mx\u001b[0m\u001b[0;34m)\u001b[0m\u001b[0;34m\u001b[0m\u001b[0;34m\u001b[0m\u001b[0m\n\u001b[1;32m      6\u001b[0m   \u001b[0mx\u001b[0m \u001b[0;34m=\u001b[0m \u001b[0mlayers\u001b[0m\u001b[0;34m.\u001b[0m\u001b[0mMaxPooling2D\u001b[0m\u001b[0;34m(\u001b[0m\u001b[0;34m(\u001b[0m\u001b[0;36m2\u001b[0m\u001b[0;34m,\u001b[0m\u001b[0;36m2\u001b[0m\u001b[0;34m)\u001b[0m\u001b[0;34m)\u001b[0m\u001b[0;34m(\u001b[0m\u001b[0mx\u001b[0m\u001b[0;34m)\u001b[0m\u001b[0;34m\u001b[0m\u001b[0;34m\u001b[0m\u001b[0m\n\u001b[0;32m----> 7\u001b[0;31m   \u001b[0mx\u001b[0m \u001b[0;34m=\u001b[0m \u001b[0mlayers\u001b[0m\u001b[0;34m.\u001b[0m\u001b[0mconv2D\u001b[0m\u001b[0;34m(\u001b[0m\u001b[0;36m64\u001b[0m\u001b[0;34m,\u001b[0m \u001b[0;34m(\u001b[0m\u001b[0;36m3\u001b[0m\u001b[0;34m,\u001b[0m\u001b[0;36m3\u001b[0m\u001b[0;34m)\u001b[0m\u001b[0;34m,\u001b[0m \u001b[0mactivation\u001b[0m\u001b[0;34m=\u001b[0m\u001b[0mactivation\u001b[0m\u001b[0;34m)\u001b[0m\u001b[0;34m(\u001b[0m\u001b[0mx\u001b[0m\u001b[0;34m)\u001b[0m\u001b[0;34m\u001b[0m\u001b[0;34m\u001b[0m\u001b[0m\n\u001b[0m\u001b[1;32m      8\u001b[0m   \u001b[0mx\u001b[0m \u001b[0;34m=\u001b[0m \u001b[0mlayers\u001b[0m\u001b[0;34m.\u001b[0m\u001b[0mFlatten\u001b[0m\u001b[0;34m(\u001b[0m\u001b[0;34m)\u001b[0m\u001b[0;34m(\u001b[0m\u001b[0mx\u001b[0m\u001b[0;34m)\u001b[0m\u001b[0;34m\u001b[0m\u001b[0;34m\u001b[0m\u001b[0m\n\u001b[1;32m      9\u001b[0m   \u001b[0mx\u001b[0m \u001b[0;34m=\u001b[0m \u001b[0mlayers\u001b[0m\u001b[0;34m.\u001b[0m\u001b[0mDense\u001b[0m\u001b[0;34m(\u001b[0m\u001b[0;36m64\u001b[0m\u001b[0;34m,\u001b[0m \u001b[0mactivation\u001b[0m\u001b[0;34m=\u001b[0m\u001b[0mactivation\u001b[0m\u001b[0;34m)\u001b[0m\u001b[0;34m(\u001b[0m\u001b[0mx\u001b[0m\u001b[0;34m)\u001b[0m\u001b[0;34m\u001b[0m\u001b[0;34m\u001b[0m\u001b[0m\n",
            "\u001b[0;31mAttributeError\u001b[0m: module 'keras._tf_keras.keras.layers' has no attribute 'conv2D'"
          ]
        }
      ]
    }
  ]
}